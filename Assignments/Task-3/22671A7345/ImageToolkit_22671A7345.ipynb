{
 "cells": [
  {
   "cell_type": "markdown",
   "id": "b7809af1",
   "metadata": {},
   "source": [
    "# 📓 Image Processing & Analysis Toolkit\n",
    "---\n",
    "**Course**: Image Processing Fundamentals & Computer Vision\n",
    "\n",
    "**Assignment**: GUI-based Application with OpenCV + Streamlit\n",
    "\n",
    "**Roll No**: 22671A7345\n",
    "\n",
    "**Deadline**: Sep 8, 2025\n",
    "\n",
    "---\n",
    "This notebook complements the `ImageToolkit_app.py` Streamlit GUI by explaining step-by-step theory and demonstrating image processing operations using **OpenCV**, **NumPy**, and **Matplotlib**."
   ]
  },
  {
   "cell_type": "markdown",
   "id": "df65a22b",
   "metadata": {},
   "source": [
    "## 1️⃣ Introduction\n",
    "Digital Image Processing is the use of computer algorithms to perform image manipulations. It plays a key role in **medical imaging, satellite imaging, biometrics, security systems, and computer vision applications**.\n",
    "\n",
    "In this notebook, we will:\n",
    "- Load and inspect images\n",
    "- Perform **color conversions**\n",
    "- Apply **geometric transformations**\n",
    "- Implement **filtering and morphological operations**\n",
    "- Explore **image enhancement techniques**\n",
    "- Perform **edge detection**\n",
    "- Demonstrate **compression and file handling**\n"
   ]
  },
  {
   "cell_type": "markdown",
   "id": "88b9e5ba",
   "metadata": {},
   "source": [
    "## 2️⃣ Setup\n",
    "Install required libraries if not already installed."
   ]
  },
  {
   "cell_type": "code",
   "execution_count": null,
   "id": "a2f56f2a",
   "metadata": {},
   "outputs": [],
   "source": [
    "!pip install opencv-python-headless numpy matplotlib pillow"
   ]
  },
  {
   "cell_type": "markdown",
   "id": "fd9ff0ea",
   "metadata": {},
   "source": [
    "## 3️⃣ Loading & Displaying an Image"
   ]
  },
  {
   "cell_type": "code",
   "execution_count": null,
   "id": "d7a8be56",
   "metadata": {},
   "outputs": [],
   "source": [
    "import cv2, numpy as np\n",
    "import matplotlib.pyplot as plt\n",
    "from PIL import Image\n",
    "\n",
    "# Load sample image (Lenna alternative: gradient image)\n",
    "img = np.tile(np.linspace(0,255,512).astype(np.uint8), (512,1))\n",
    "img_color = cv2.cvtColor(img, cv2.COLOR_GRAY2BGR)\n",
    "\n",
    "plt.imshow(cv2.cvtColor(img_color, cv2.COLOR_BGR2RGB))\n",
    "plt.title(\"Sample Image\")\n",
    "plt.axis('off')\n",
    "plt.show()"
   ]
  },
  {
   "cell_type": "markdown",
   "id": "97f0b022",
   "metadata": {},
   "source": [
    "## 4️⃣ Color Conversions"
   ]
  },
  {
   "cell_type": "code",
   "execution_count": null,
   "id": "0abcdf67",
   "metadata": {},
   "outputs": [],
   "source": [
    "gray = cv2.cvtColor(img_color, cv2.COLOR_BGR2GRAY)\n",
    "hsv = cv2.cvtColor(img_color, cv2.COLOR_BGR2HSV)\n",
    "\n",
    "fig, ax = plt.subplots(1,3, figsize=(12,4))\n",
    "ax[0].imshow(cv2.cvtColor(img_color, cv2.COLOR_BGR2RGB)); ax[0].set_title(\"Original BGR\"); ax[0].axis(\"off\")\n",
    "ax[1].imshow(gray, cmap=\"gray\"); ax[1].set_title(\"Grayscale\"); ax[1].axis(\"off\")\n",
    "ax[2].imshow(hsv[:,:,0], cmap=\"hsv\"); ax[2].set_title(\"HSV (H-channel)\"); ax[2].axis(\"off\")\n",
    "plt.show()"
   ]
  },
  {
   "cell_type": "markdown",
   "id": "cffc807e",
   "metadata": {},
   "source": [
    "## 5️⃣ Geometric Transformations"
   ]
  },
  {
   "cell_type": "code",
   "execution_count": null,
   "id": "e41a4488",
   "metadata": {},
   "outputs": [],
   "source": [
    "# Rotation\n",
    "(h, w) = img_color.shape[:2]\n",
    "M = cv2.getRotationMatrix2D((w/2,h/2), 45, 1.0)\n",
    "rotated = cv2.warpAffine(img_color, M, (w,h))\n",
    "\n",
    "# Scaling\n",
    "scaled = cv2.resize(img_color, None, fx=0.5, fy=0.5)\n",
    "\n",
    "# Translation\n",
    "M = np.float32([[1,0,50],[0,1,30]])\n",
    "translated = cv2.warpAffine(img_color, M, (w,h))\n",
    "\n",
    "fig, ax = plt.subplots(1,3, figsize=(15,5))\n",
    "ax[0].imshow(cv2.cvtColor(rotated, cv2.COLOR_BGR2RGB)); ax[0].set_title(\"Rotated\")\n",
    "ax[1].imshow(cv2.cvtColor(scaled, cv2.COLOR_BGR2RGB)); ax[1].set_title(\"Scaled\")\n",
    "ax[2].imshow(cv2.cvtColor(translated, cv2.COLOR_BGR2RGB)); ax[2].set_title(\"Translated\")\n",
    "for a in ax: a.axis(\"off\")\n",
    "plt.show()"
   ]
  },
  {
   "cell_type": "markdown",
   "id": "c5a6d731",
   "metadata": {},
   "source": [
    "## 6️⃣ Filtering & Morphological Operations"
   ]
  },
  {
   "cell_type": "code",
   "execution_count": null,
   "id": "f9954f28",
   "metadata": {},
   "outputs": [],
   "source": [
    "blurred = cv2.GaussianBlur(img_color,(7,7),0)\n",
    "edges = cv2.Canny(img_color,100,200)\n",
    "kernel = np.ones((5,5),np.uint8)\n",
    "dilated = cv2.dilate(edges, kernel, iterations=1)\n",
    "\n",
    "fig, ax = plt.subplots(1,3, figsize=(15,5))\n",
    "ax[0].imshow(cv2.cvtColor(blurred, cv2.COLOR_BGR2RGB)); ax[0].set_title(\"Gaussian Blur\")\n",
    "ax[1].imshow(edges, cmap=\"gray\"); ax[1].set_title(\"Canny Edges\")\n",
    "ax[2].imshow(dilated, cmap=\"gray\"); ax[2].set_title(\"Dilated Edges\")\n",
    "for a in ax: a.axis(\"off\")\n",
    "plt.show()"
   ]
  },
  {
   "cell_type": "markdown",
   "id": "06275667",
   "metadata": {},
   "source": [
    "## 7️⃣ Image Enhancement"
   ]
  },
  {
   "cell_type": "code",
   "execution_count": null,
   "id": "73f79e35",
   "metadata": {},
   "outputs": [],
   "source": [
    "gray = cv2.cvtColor(img_color, cv2.COLOR_BGR2GRAY)\n",
    "eq = cv2.equalizeHist(gray)\n",
    "\n",
    "# Sharpening kernel\n",
    "kernel = np.array([[0,-1,0],[-1,5,-1],[0,-1,0]])\n",
    "sharpened = cv2.filter2D(img_color,-1,kernel)\n",
    "\n",
    "fig, ax = plt.subplots(1,3, figsize=(15,5))\n",
    "ax[0].imshow(gray,cmap=\"gray\"); ax[0].set_title(\"Grayscale\")\n",
    "ax[1].imshow(eq,cmap=\"gray\"); ax[1].set_title(\"Histogram Equalized\")\n",
    "ax[2].imshow(cv2.cvtColor(sharpened, cv2.COLOR_BGR2RGB)); ax[2].set_title(\"Sharpened\")\n",
    "for a in ax: a.axis(\"off\")\n",
    "plt.show()"
   ]
  },
  {
   "cell_type": "markdown",
   "id": "d1760c5c",
   "metadata": {},
   "source": [
    "## 8️⃣ Compression & File Handling"
   ]
  },
  {
   "cell_type": "code",
   "execution_count": null,
   "id": "f45b7e08",
   "metadata": {},
   "outputs": [],
   "source": [
    "cv2.imwrite(\"output_img.jpg\", img_color, [int(cv2.IMWRITE_JPEG_QUALITY), 80])\n",
    "cv2.imwrite(\"output_img.png\", img_color)\n",
    "import os\n",
    "print(\"JPEG size:\", os.path.getsize(\"output_img.jpg\"), \"bytes\")\n",
    "print(\"PNG size:\", os.path.getsize(\"output_img.png\"), \"bytes\")"
   ]
  },
  {
   "cell_type": "markdown",
   "id": "15db4ef1",
   "metadata": {},
   "source": [
    "## 9️⃣ Conclusion\n",
    "- We explored **image fundamentals** and **color models**.\n",
    "- Applied **transformations, filtering, morphology, and enhancement**.\n",
    "- Used **edge detection** techniques.\n",
    "- Demonstrated **compression trade-offs**.\n",
    "\n",
    "👉 This notebook complements the GUI app and provides theoretical + practical understanding."
   ]
  }
 ],
 "metadata": {},
 "nbformat": 4,
 "nbformat_minor": 5
}

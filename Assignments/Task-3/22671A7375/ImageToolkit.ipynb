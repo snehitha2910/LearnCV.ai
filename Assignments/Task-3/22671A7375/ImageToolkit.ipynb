{
 "cells": [
  {
   "cell_type": "markdown",
   "id": "06f17322",
   "metadata": {},
   "source": [
    "# ImageToolkit — Fundamentals & Practice\n",
    "\n",
    "Module 1 — Image Processing Fundamentals & Computer Vision\n",
    "\n",
    "**Contents**\n",
    "1. Sampling & Quantization\n",
    "2. PSF (Point Spread Function) & Convolution\n",
    "3. Color Spaces (RGB, HSV, YCbCr, Gray)\n",
    "4. Geometric Transforms (Rotation, Scaling, Translation, Affine, Perspective)\n",
    "5. Filtering & Morphology\n",
    "6. Enhancement (Histogram Equalization, Contrast Stretching, Sharpen)\n",
    "7. Edge Detection (Sobel, Laplacian, Canny)\n",
    "8. Compression & File Formats\n",
    "9. Practice Tasks"
   ]
  },
  {
   "cell_type": "markdown",
   "id": "feaee289",
   "metadata": {},
   "source": [
    "## 1) Sampling & Quantization\n",
    "- **Sampling** reduces spatial resolution (H×W).\n",
    "- **Quantization** reduces intensity resolution (bit-depth).\n",
    "We will simulate both below."
   ]
  },
  {
   "cell_type": "markdown",
   "id": "ad46b6f0",
   "metadata": {},
   "source": [
    "## 3) Color Spaces & 4) Geometric Transforms\n",
    "Use OpenCV: `cv2.cvtColor`, `cv2.getRotationMatrix2D`, `cv2.warpAffine`, `cv2.getPerspectiveTransform`, `cv2.warpPerspective`."
   ]
  },
  {
   "cell_type": "markdown",
   "id": "4430a07e",
   "metadata": {},
   "source": [
    "## 5) Filtering & Morphology — 6) Enhancement — 7) Edges\n",
    "Try `cv2.blur`, `cv2.GaussianBlur`, `cv2.medianBlur`, `cv2.equalizeHist`, `cv2.Canny`, `cv2.Sobel`, `cv2.Laplacian`."
   ]
  },
  {
   "cell_type": "code",
   "execution_count": null,
   "id": "c732b511",
   "metadata": {},
   "outputs": [],
   "source": [
    "mean = cv2.blur(color, (5,5))\n",
    "gauss = cv2.GaussianBlur(color,(5,5),0)\n",
    "med = cv2.medianBlur(color,5)\n",
    "eq = cv2.equalizeHist(gray)\n",
    "edges = cv2.Canny(gray, 100, 200)\n",
    "plt.figure(); plt.title('Mean'); plt.imshow(cv2.cvtColor(mean, cv2.COLOR_BGR2RGB)); plt.axis('off')\n",
    "plt.figure(); plt.title('Canny'); plt.imshow(edges, cmap='gray'); plt.axis('off')"
   ]
  },
  {
   "cell_type": "markdown",
   "id": "ff86c265",
   "metadata": {},
   "source": [
    "## 8) Compression\n",
    "Compare file sizes by encoding to PNG/JPG/BMP with different quality settings using `cv2.imencode`."
   ]
  },
  {
   "cell_type": "code",
   "execution_count": 1,
   "id": "2f6498fe",
   "metadata": {},
   "outputs": [
    {
     "ename": "NameError",
     "evalue": "name 'cv2' is not defined",
     "output_type": "error",
     "traceback": [
      "\u001b[1;31m---------------------------------------------------------------------------\u001b[0m",
      "\u001b[1;31mNameError\u001b[0m                                 Traceback (most recent call last)",
      "Cell \u001b[1;32mIn[1], line 1\u001b[0m\n\u001b[1;32m----> 1\u001b[0m buf_png \u001b[38;5;241m=\u001b[39m \u001b[43mcv2\u001b[49m\u001b[38;5;241m.\u001b[39mimencode(\u001b[38;5;124m'\u001b[39m\u001b[38;5;124m.png\u001b[39m\u001b[38;5;124m'\u001b[39m, color)[\u001b[38;5;241m1\u001b[39m]\u001b[38;5;241m.\u001b[39mtobytes()\n\u001b[0;32m      2\u001b[0m buf_bmp \u001b[38;5;241m=\u001b[39m cv2\u001b[38;5;241m.\u001b[39mimencode(\u001b[38;5;124m'\u001b[39m\u001b[38;5;124m.bmp\u001b[39m\u001b[38;5;124m'\u001b[39m, color)[\u001b[38;5;241m1\u001b[39m]\u001b[38;5;241m.\u001b[39mtobytes()\n\u001b[0;32m      3\u001b[0m buf_jpg_q90 \u001b[38;5;241m=\u001b[39m cv2\u001b[38;5;241m.\u001b[39mimencode(\u001b[38;5;124m'\u001b[39m\u001b[38;5;124m.jpg\u001b[39m\u001b[38;5;124m'\u001b[39m, color, [\u001b[38;5;28mint\u001b[39m(cv2\u001b[38;5;241m.\u001b[39mIMWRITE_JPEG_QUALITY),\u001b[38;5;241m90\u001b[39m])[\u001b[38;5;241m1\u001b[39m]\u001b[38;5;241m.\u001b[39mtobytes()\n",
      "\u001b[1;31mNameError\u001b[0m: name 'cv2' is not defined"
     ]
    }
   ],
   "source": [
    "buf_png = cv2.imencode('.png', color)[1].tobytes()\n",
    "buf_bmp = cv2.imencode('.bmp', color)[1].tobytes()\n",
    "buf_jpg_q90 = cv2.imencode('.jpg', color, [int(cv2.IMWRITE_JPEG_QUALITY),90])[1].tobytes()\n",
    "sizes = {'PNG_kB':len(buf_png)/1024, 'BMP_kB':len(buf_bmp)/1024, 'JPG(q90)_kB':len(buf_jpg_q90)/1024}\n",
    "sizes"
   ]
  },
  {
   "cell_type": "markdown",
   "id": "40c4f62e",
   "metadata": {},
   "source": [
    "## 9) Practice Tasks\n",
    "1. Implement **contrast stretching** with arbitrary low/high percentiles.\n",
    "2. Build an **interactive demo** using the Streamlit app provided in `app.py`.\n",
    "3. Add a **split-screen** comparison option.\n",
    "4. Try **affine** and **perspective** transforms with different control points.\n",
    "5. Evaluate compression artifacts across formats and qualities."
   ]
  }
 ],
 "metadata": {
  "kernelspec": {
   "display_name": "Python (tfenv)",
   "language": "python",
   "name": "tfenv"
  },
  "language_info": {
   "codemirror_mode": {
    "name": "ipython",
    "version": 3
   },
   "file_extension": ".py",
   "mimetype": "text/x-python",
   "name": "python",
   "nbconvert_exporter": "python",
   "pygments_lexer": "ipython3",
   "version": "3.9.21"
  }
 },
 "nbformat": 4,
 "nbformat_minor": 5
}
